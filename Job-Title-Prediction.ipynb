{
 "cells": [
  {
   "cell_type": "code",
   "execution_count": 7,
   "metadata": {},
   "outputs": [],
   "source": [
    "import torch\n",
    "from transformers import BertTokenizer\n",
    "\n",
    "def find_job_title(skills):\n",
    "    # Load the saved model for prediction\n",
    "    model = torch.load(r\"C:\\Users\\ASUS\\Desktop\\trial\\bert_model.pt\", map_location=torch.device('cpu'))\n",
    "    device = torch.device(\"cuda\" if torch.cuda.is_available() else \"cpu\")\n",
    "    \n",
    "    tokenizer = BertTokenizer.from_pretrained(\"bert-base-uncased\")\n",
    "\n",
    "    job_titles=[\"Software Developer\", \"Web Developer\", \"IT Support Specialist\", \"DevOps Engineer\", \"Cloud Computing Engineer\", \"Data Scientist\", \"Data Analyst\", \"Machine Learning Engineer\", \"Artificial Intelligence Engineer\", \"Cybersecurity Specialist\", \"Technical Project Manager\", \"Data Engineer\",\"Big Data Engineer\" ]\n",
    "\n",
    "    model.to(device)\n",
    "\n",
    "    model.eval()\n",
    "\n",
    "    # Tokenize input keywords\n",
    "    inputs = tokenizer(skills, padding=True, truncation=True, return_tensors=\"pt\")\n",
    "    inputs.to(device)\n",
    "\n",
    "    # Perform inference\n",
    "    with torch.no_grad():\n",
    "        outputs = model(**inputs)\n",
    "\n",
    "    # Get predicted label indices for each input separately\n",
    "    predicted_label_idxs = torch.argmax(outputs.logits, dim=1)\n",
    "\n",
    "    # Get predicted probabilities for the predicted label indices\n",
    "    predicted_probs = torch.softmax(outputs.logits, dim=1)\n",
    "\n",
    "    # Initialize list to store job titles with their respective max confidences\n",
    "    max_confidence_dict = {}\n",
    "\n",
    "    # Update max confidence for each job title\n",
    "    for idx, label_idx in enumerate(predicted_label_idxs):\n",
    "        job_title = job_titles[label_idx.item()]\n",
    "        confidence = predicted_probs[idx, label_idx].item()\n",
    "        if job_title not in max_confidence_dict or confidence > max_confidence_dict[job_title]:\n",
    "            max_confidence_dict[job_title] = confidence\n",
    "\n",
    "    # Sort job titles by confidence in descending order\n",
    "    sorted_job_titles = sorted(max_confidence_dict.items(), key=lambda x: x[1], reverse=True)\n",
    "\n",
    "    \n",
    "    output=[]\n",
    "\n",
    "    for i in sorted_job_titles[:3]:\n",
    "        output.append(i[0])\n",
    "\n",
    "    return output\n",
    "    "
   ]
  },
  {
   "cell_type": "code",
   "execution_count": 8,
   "metadata": {},
   "outputs": [
    {
     "name": "stdout",
     "output_type": "stream",
     "text": [
      "['Data Scientist', 'Web Developer', 'Data Analyst']\n"
     ]
    }
   ],
   "source": [
    "print(find_job_title(['ParseHub',\n",
    " 'ETL process',\n",
    " 'SQL',\n",
    " 'Dask',\n",
    " 'Python',\n",
    " 'Tableau',\n",
    " 'Matplotlib',\n",
    " 'Seaborn',\n",
    " 'NLP, Unstructured Data',\n",
    " 'FastText',\n",
    " 'Computer Vision',\n",
    " 'ResNET',\n",
    " 'SMOTE',\n",
    " 'SVM',\n",
    " 'C++',\n",
    " 'Arduino',\n",
    " 'Python',\n",
    " 'R',\n",
    " 'PyTorch',\n",
    " 'TensorFlow',\n",
    " 'Keras',\n",
    " 'Scikit',\n",
    " '-',\n",
    " 'Learn',\n",
    " 'Statsmodels',\n",
    " 'Scipy',\n",
    " 'Pandas',\n",
    " 'Dask',\n",
    " 'Numpy',\n",
    " 'Postgres SQL',\n",
    " 'MySQL',\n",
    " 'BI',\n",
    " 'Tableau',\n",
    " 'Matplotlib',\n",
    " 'Seaborn',\n",
    " 'Geopy',\n",
    " 'Geopandas',\n",
    " 'Plotly',\n",
    " 'Folium',\n",
    " 'AWS',\n",
    " 'Regression, Classification, Clustering, Deep Learning']))"
   ]
  },
  {
   "cell_type": "code",
   "execution_count": null,
   "metadata": {},
   "outputs": [],
   "source": []
  },
  {
   "cell_type": "code",
   "execution_count": null,
   "metadata": {},
   "outputs": [],
   "source": []
  }
 ],
 "metadata": {
  "kernelspec": {
   "display_name": "Python 3.10.6 64-bit",
   "language": "python",
   "name": "python3"
  },
  "language_info": {
   "codemirror_mode": {
    "name": "ipython",
    "version": 3
   },
   "file_extension": ".py",
   "mimetype": "text/x-python",
   "name": "python",
   "nbconvert_exporter": "python",
   "pygments_lexer": "ipython3",
   "version": "3.10.6"
  },
  "orig_nbformat": 4,
  "vscode": {
   "interpreter": {
    "hash": "27f6fea6f47ae512550f0b8facdbd035a93e1dd89633f7bf2dd00a2502c71d0d"
   }
  }
 },
 "nbformat": 4,
 "nbformat_minor": 2
}
